{
 "cells": [
  {
   "cell_type": "code",
   "execution_count": 1,
   "metadata": {},
   "outputs": [],
   "source": [
    "# python 3\n",
    "\"\"\"\n",
    "# File Name: Shuffle_Data_Ten_Times_and_Evaluate_Model.ipynb\n",
    "# Zhihong (George) Li (zhihongli@bennington.edu)\n",
    "\n",
    "This program takes the heart.csv, shuffle it and split the train and test data.\n",
    "Then it trains with Logistic Regression Model. Using test data to predict the output(whether patient has heart disease or not).\n",
    "Then it evaluates the predictions by calculating the mean precision and precision std.\n",
    "\n",
    "Dataset comes from Kaggle https://www.kaggle.com/nyjoey/heart-disease\n",
    "\"\"\"\n",
    "# import all the modules for data analysis\n",
    "# dataset comes from Kaggle https://www.kaggle.com/nyjoey/heart-disease\n",
    "import pandas as pd\n",
    "import numpy as np\n",
    "import matplotlib.pyplot as plt\n",
    "import seaborn as sns\n",
    "\n",
    "from sklearn.model_selection import train_test_split\n",
    "from sklearn.linear_model import LogisticRegression\n",
    "from sklearn.metrics import classification_report, confusion_matrix\n",
    "from sklearn.pipeline import Pipeline\n",
    "import statistics"
   ]
  },
  {
   "cell_type": "code",
   "execution_count": 2,
   "metadata": {},
   "outputs": [],
   "source": [
    "# read the file using pandas\n",
    "df = pd.read_csv('heart.csv')"
   ]
  },
  {
   "cell_type": "code",
   "execution_count": 3,
   "metadata": {},
   "outputs": [
    {
     "data": {
      "text/html": [
       "<div>\n",
       "<style scoped>\n",
       "    .dataframe tbody tr th:only-of-type {\n",
       "        vertical-align: middle;\n",
       "    }\n",
       "\n",
       "    .dataframe tbody tr th {\n",
       "        vertical-align: top;\n",
       "    }\n",
       "\n",
       "    .dataframe thead th {\n",
       "        text-align: right;\n",
       "    }\n",
       "</style>\n",
       "<table border=\"1\" class=\"dataframe\">\n",
       "  <thead>\n",
       "    <tr style=\"text-align: right;\">\n",
       "      <th></th>\n",
       "      <th>age</th>\n",
       "      <th>sex</th>\n",
       "      <th>cp</th>\n",
       "      <th>trestbps</th>\n",
       "      <th>chol</th>\n",
       "      <th>fbs</th>\n",
       "      <th>restecg</th>\n",
       "      <th>thalach</th>\n",
       "      <th>exang</th>\n",
       "      <th>oldpeak</th>\n",
       "      <th>slope</th>\n",
       "      <th>ca</th>\n",
       "      <th>thal</th>\n",
       "      <th>target</th>\n",
       "    </tr>\n",
       "  </thead>\n",
       "  <tbody>\n",
       "    <tr>\n",
       "      <td>0</td>\n",
       "      <td>63</td>\n",
       "      <td>1</td>\n",
       "      <td>3</td>\n",
       "      <td>145</td>\n",
       "      <td>233</td>\n",
       "      <td>1</td>\n",
       "      <td>0</td>\n",
       "      <td>150</td>\n",
       "      <td>0</td>\n",
       "      <td>2.3</td>\n",
       "      <td>0</td>\n",
       "      <td>0</td>\n",
       "      <td>1</td>\n",
       "      <td>1</td>\n",
       "    </tr>\n",
       "    <tr>\n",
       "      <td>1</td>\n",
       "      <td>37</td>\n",
       "      <td>1</td>\n",
       "      <td>2</td>\n",
       "      <td>130</td>\n",
       "      <td>250</td>\n",
       "      <td>0</td>\n",
       "      <td>1</td>\n",
       "      <td>187</td>\n",
       "      <td>0</td>\n",
       "      <td>3.5</td>\n",
       "      <td>0</td>\n",
       "      <td>0</td>\n",
       "      <td>2</td>\n",
       "      <td>1</td>\n",
       "    </tr>\n",
       "    <tr>\n",
       "      <td>2</td>\n",
       "      <td>41</td>\n",
       "      <td>0</td>\n",
       "      <td>1</td>\n",
       "      <td>130</td>\n",
       "      <td>204</td>\n",
       "      <td>0</td>\n",
       "      <td>0</td>\n",
       "      <td>172</td>\n",
       "      <td>0</td>\n",
       "      <td>1.4</td>\n",
       "      <td>2</td>\n",
       "      <td>0</td>\n",
       "      <td>2</td>\n",
       "      <td>1</td>\n",
       "    </tr>\n",
       "    <tr>\n",
       "      <td>3</td>\n",
       "      <td>56</td>\n",
       "      <td>1</td>\n",
       "      <td>1</td>\n",
       "      <td>120</td>\n",
       "      <td>236</td>\n",
       "      <td>0</td>\n",
       "      <td>1</td>\n",
       "      <td>178</td>\n",
       "      <td>0</td>\n",
       "      <td>0.8</td>\n",
       "      <td>2</td>\n",
       "      <td>0</td>\n",
       "      <td>2</td>\n",
       "      <td>1</td>\n",
       "    </tr>\n",
       "    <tr>\n",
       "      <td>4</td>\n",
       "      <td>57</td>\n",
       "      <td>0</td>\n",
       "      <td>0</td>\n",
       "      <td>120</td>\n",
       "      <td>354</td>\n",
       "      <td>0</td>\n",
       "      <td>1</td>\n",
       "      <td>163</td>\n",
       "      <td>1</td>\n",
       "      <td>0.6</td>\n",
       "      <td>2</td>\n",
       "      <td>0</td>\n",
       "      <td>2</td>\n",
       "      <td>1</td>\n",
       "    </tr>\n",
       "  </tbody>\n",
       "</table>\n",
       "</div>"
      ],
      "text/plain": [
       "   age  sex  cp  trestbps  chol  fbs  restecg  thalach  exang  oldpeak  slope  \\\n",
       "0   63    1   3       145   233    1        0      150      0      2.3      0   \n",
       "1   37    1   2       130   250    0        1      187      0      3.5      0   \n",
       "2   41    0   1       130   204    0        0      172      0      1.4      2   \n",
       "3   56    1   1       120   236    0        1      178      0      0.8      2   \n",
       "4   57    0   0       120   354    0        1      163      1      0.6      2   \n",
       "\n",
       "   ca  thal  target  \n",
       "0   0     1       1  \n",
       "1   0     2       1  \n",
       "2   0     2       1  \n",
       "3   0     2       1  \n",
       "4   0     2       1  "
      ]
     },
     "execution_count": 3,
     "metadata": {},
     "output_type": "execute_result"
    }
   ],
   "source": [
    "# let's check the basic info about this dataset\n",
    "df.head()"
   ]
  },
  {
   "cell_type": "markdown",
   "metadata": {},
   "source": [
    "# Building the functions for shuffling data and evaluating model"
   ]
  },
  {
   "cell_type": "code",
   "execution_count": 4,
   "metadata": {},
   "outputs": [],
   "source": [
    "# functions for extracting info from evaluation of the model\n",
    "\n",
    "def save_precision_for_zero_to_dict(zero):\n",
    "    # extract precision for zero\n",
    "    if 'precision' in zero:\n",
    "        zero['precision'].append(float(cfr_arr[5]))\n",
    "    else:\n",
    "        zero['precision'] = [float(cfr_arr[5])]\n",
    "\n",
    "def save_recall_for_zero_to_dict(zero):\n",
    "    # extract recall for zero\n",
    "    if 'recall' in zero:\n",
    "        zero['recall'].append(float(cfr_arr[6]))\n",
    "    else:\n",
    "        zero['recall'] = [float(cfr_arr[6])]\n",
    "\n",
    "def save_f1_for_zero_to_dict(zero):\n",
    "        # extract f1-score for zero\n",
    "    if 'f1' in zero:\n",
    "        zero['f1'].append(float(cfr_arr[7]))\n",
    "    else:\n",
    "        zero['f1'] = [float(cfr_arr[7])]\n",
    "\n",
    "def save_support_for_zero_to_dict(zero):\n",
    "    # extract support for zero\n",
    "    if 'support' in zero:\n",
    "        zero['support'].append(float(cfr_arr[8]))\n",
    "    else:\n",
    "        zero['support'] = [float(cfr_arr[8])]\n",
    "\n",
    "def save_precision_for_one_to_dict(one):\n",
    "        # extract precision for one\n",
    "    if 'precision' in one:\n",
    "        one['precision'].append(float(cfr_arr[10]))\n",
    "    else:\n",
    "        one['precision'] = [float(cfr_arr[10])]\n",
    "\n",
    "def save_recall_for_one_to_dict(one):\n",
    "        # extract recall for one\n",
    "    if 'recall' in one:\n",
    "        one['recall'].append(float(cfr_arr[11]))\n",
    "    else:\n",
    "        one['recall'] = [float(cfr_arr[11])]\n",
    "        \n",
    "def save_f1_for_one_to_dict(one):\n",
    "        # extract f1-score for one\n",
    "    if 'f1' in one:\n",
    "        one['f1'].append(float(cfr_arr[12]))\n",
    "    else:\n",
    "        one['f1'] = [float(cfr_arr[12])]\n",
    "        \n",
    "def save_support_for_one_to_dict(one):\n",
    "        # extract support for one\n",
    "    if 'support' in one:\n",
    "        one['support'].append(float(cfr_arr[13]))\n",
    "    else:\n",
    "        one['support'] = [float(cfr_arr[13])]"
   ]
  },
  {
   "cell_type": "code",
   "execution_count": 5,
   "metadata": {},
   "outputs": [],
   "source": [
    "# save_eval_into_dict function\n",
    "def save_eval_of_zero_to_dict(zero):\n",
    "    save_precision_for_zero_to_dict(zero)\n",
    "    save_recall_for_zero_to_dict(zero)\n",
    "    save_f1_for_zero_to_dict(zero)\n",
    "    save_support_for_zero_to_dict(zero)\n",
    "    \n",
    "def save_eval_of_one_to_dict(one):\n",
    "    save_precision_for_one_to_dict(one)\n",
    "    save_recall_for_one_to_dict(one)\n",
    "    save_f1_for_one_to_dict(one)\n",
    "    save_support_for_one_to_dict(one)"
   ]
  },
  {
   "cell_type": "code",
   "execution_count": 6,
   "metadata": {},
   "outputs": [],
   "source": [
    "def get_precision_mean(dictionary):\n",
    "    return sum(dictionary['precision']) / len(dictionary['precision'])\n",
    "\n",
    "def get_recall_mean(dictionary):\n",
    "    return sum(dictionary['recall']) / len(dictionary['recall'])\n",
    "    \n",
    "def get_f1_mean(dictionary):\n",
    "    return sum(dictionary['f1']) / len(dictionary['f1'])\n",
    "\n",
    "def get_support_mean(dictionary):\n",
    "    return sum(dictionary['support']) / len(dictionary['support'])\n",
    "    \n",
    "def get_precision_std(dictionary):\n",
    "    return statistics.stdev(dictionary['precision'])\n",
    "\n",
    "def get_recall_std(dictionary):\n",
    "    return statistics.stdev(dictionary['recall'])\n",
    "\n",
    "def get_f1_std(dictionary):\n",
    "    return statistics.stdev(dictionary['f1'])\n",
    "    \n",
    "def get_support_std(dictionary):\n",
    "    return statistics.stdev(dictionary['support'])"
   ]
  },
  {
   "cell_type": "code",
   "execution_count": 7,
   "metadata": {},
   "outputs": [],
   "source": [
    "def mean_std_evaluation_report(dictionary):\n",
    "    print(\"Result: \")\n",
    "    print(\"mean precision:\", get_precision_mean(dictionary))\n",
    "    print(\"mean recall :\", get_recall_mean(dictionary))\n",
    "    print(\"mean f1 :\",get_f1_mean(dictionary))\n",
    "    print(\"mean support :\",get_support_mean(dictionary))\n",
    "    print(\"precision std :\",get_precision_std(dictionary))\n",
    "    print(\"recall std :\", get_recall_std(dictionary))\n",
    "    print(\"f1-score std :\", get_f1_std(dictionary))\n",
    "    print(\"support std :\", get_support_std(dictionary))"
   ]
  },
  {
   "cell_type": "code",
   "execution_count": 8,
   "metadata": {},
   "outputs": [],
   "source": [
    "# create two new dict for storing the evaluation info\n",
    "# becasue classification_report info looks like this\n",
    "# the eval_zero and eval_one will be the dictionaries stores these info\n",
    "\"\"\"\n",
    "\tprecision\trecall\tf1-score\tsupport\n",
    "0\t0.82\t    0.8\t    0.81\t    41\n",
    "1\t0.84\t    0.86\t0.85\t    50\n",
    "\"\"\"\n",
    "\n",
    "eval_zero = {}\n",
    "eval_one = {}"
   ]
  },
  {
   "cell_type": "code",
   "execution_count": 9,
   "metadata": {},
   "outputs": [
    {
     "name": "stderr",
     "output_type": "stream",
     "text": [
      "d:\\ProgramData\\Anaconda3\\lib\\site-packages\\sklearn\\linear_model\\logistic.py:432: FutureWarning: Default solver will be changed to 'lbfgs' in 0.22. Specify a solver to silence this warning.\n",
      "  FutureWarning)\n",
      "d:\\ProgramData\\Anaconda3\\lib\\site-packages\\sklearn\\linear_model\\logistic.py:432: FutureWarning: Default solver will be changed to 'lbfgs' in 0.22. Specify a solver to silence this warning.\n",
      "  FutureWarning)\n",
      "d:\\ProgramData\\Anaconda3\\lib\\site-packages\\sklearn\\linear_model\\logistic.py:432: FutureWarning: Default solver will be changed to 'lbfgs' in 0.22. Specify a solver to silence this warning.\n",
      "  FutureWarning)\n",
      "d:\\ProgramData\\Anaconda3\\lib\\site-packages\\sklearn\\linear_model\\logistic.py:432: FutureWarning: Default solver will be changed to 'lbfgs' in 0.22. Specify a solver to silence this warning.\n",
      "  FutureWarning)\n",
      "d:\\ProgramData\\Anaconda3\\lib\\site-packages\\sklearn\\linear_model\\logistic.py:432: FutureWarning: Default solver will be changed to 'lbfgs' in 0.22. Specify a solver to silence this warning.\n",
      "  FutureWarning)\n",
      "d:\\ProgramData\\Anaconda3\\lib\\site-packages\\sklearn\\linear_model\\logistic.py:432: FutureWarning: Default solver will be changed to 'lbfgs' in 0.22. Specify a solver to silence this warning.\n",
      "  FutureWarning)\n",
      "d:\\ProgramData\\Anaconda3\\lib\\site-packages\\sklearn\\linear_model\\logistic.py:432: FutureWarning: Default solver will be changed to 'lbfgs' in 0.22. Specify a solver to silence this warning.\n",
      "  FutureWarning)\n",
      "d:\\ProgramData\\Anaconda3\\lib\\site-packages\\sklearn\\linear_model\\logistic.py:432: FutureWarning: Default solver will be changed to 'lbfgs' in 0.22. Specify a solver to silence this warning.\n",
      "  FutureWarning)\n",
      "d:\\ProgramData\\Anaconda3\\lib\\site-packages\\sklearn\\linear_model\\logistic.py:432: FutureWarning: Default solver will be changed to 'lbfgs' in 0.22. Specify a solver to silence this warning.\n",
      "  FutureWarning)\n",
      "d:\\ProgramData\\Anaconda3\\lib\\site-packages\\sklearn\\linear_model\\logistic.py:432: FutureWarning: Default solver will be changed to 'lbfgs' in 0.22. Specify a solver to silence this warning.\n",
      "  FutureWarning)\n"
     ]
    }
   ],
   "source": [
    "# shuffle the data, train the model and store the evaluation data\n",
    "# to the these two dictionaries.\n",
    "\n",
    "for i in range(0,10):\n",
    "    # shuffle the data\n",
    "    ds = df.sample(frac=1) \n",
    "    \n",
    "    # define X and y for data spliting\n",
    "    X = df.drop('target',axis=1)\n",
    "    y = df['target']\n",
    "    \n",
    "    # now, we split out dataset\n",
    "    X_train,X_test,y_train,y_test = train_test_split(X,y,test_size=0.3)\n",
    "    \n",
    "    # create new instance of the logisticRegression Model\n",
    "    logmodel = LogisticRegression()\n",
    "    \n",
    "    # train the model\n",
    "    logmodel.fit(X_train,y_train)\n",
    "    \n",
    "    # use the model to predict and store the value as logmodel_pred\n",
    "    logmodel_pred = logmodel.predict(X_test)\n",
    "    \n",
    "    # evaluate the model and save the evaluation as cfr\n",
    "    cfr_arr = (classification_report(y_test, logmodel_pred)).split()\n",
    "\n",
    "    # extract info from the evaluation as a dictionary for later\n",
    "    save_eval_of_zero_to_dict(eval_zero)\n",
    "    save_eval_of_one_to_dict(eval_one)"
   ]
  },
  {
   "cell_type": "markdown",
   "metadata": {},
   "source": [
    "# Run functions to evaluate the potential model"
   ]
  },
  {
   "cell_type": "code",
   "execution_count": 10,
   "metadata": {},
   "outputs": [
    {
     "name": "stdout",
     "output_type": "stream",
     "text": [
      "{'precision': [0.83, 0.86, 0.87, 0.89, 0.91, 0.86, 0.9, 0.87, 0.94, 0.88], 'recall': [0.83, 0.73, 0.73, 0.79, 0.74, 0.66, 0.67, 0.71, 0.77, 0.73], 'f1': [0.83, 0.79, 0.8, 0.84, 0.82, 0.75, 0.77, 0.78, 0.85, 0.8], 'support': [42.0, 41.0, 45.0, 43.0, 42.0, 47.0, 42.0, 38.0, 44.0, 41.0]}\n"
     ]
    }
   ],
   "source": [
    "print(eval_zero)"
   ]
  },
  {
   "cell_type": "code",
   "execution_count": 11,
   "metadata": {},
   "outputs": [
    {
     "name": "stdout",
     "output_type": "stream",
     "text": [
      "{'precision': [0.86, 0.8, 0.77, 0.83, 0.81, 0.71, 0.77, 0.82, 0.82, 0.81], 'recall': [0.86, 0.9, 0.89, 0.92, 0.94, 0.89, 0.94, 0.92, 0.96, 0.92], 'f1': [0.86, 0.85, 0.83, 0.87, 0.87, 0.79, 0.84, 0.87, 0.88, 0.86], 'support': [49.0, 50.0, 46.0, 48.0, 49.0, 44.0, 49.0, 53.0, 47.0, 50.0]}\n"
     ]
    }
   ],
   "source": [
    "print(eval_one)"
   ]
  },
  {
   "cell_type": "code",
   "execution_count": 12,
   "metadata": {},
   "outputs": [
    {
     "name": "stdout",
     "output_type": "stream",
     "text": [
      "Result: \n",
      "mean precision: 0.8810000000000002\n",
      "mean recall : 0.7360000000000001\n",
      "mean f1 : 0.8029999999999999\n",
      "mean support : 42.5\n",
      "precision std : 0.03071373199943852\n",
      "recall std : 0.05146735750831674\n",
      "f1-score std : 0.03198958163736019\n",
      "support std : 2.4608038433722332\n"
     ]
    }
   ],
   "source": [
    "mean_std_evaluation_report(eval_zero)"
   ]
  },
  {
   "cell_type": "code",
   "execution_count": 13,
   "metadata": {},
   "outputs": [
    {
     "name": "stdout",
     "output_type": "stream",
     "text": [
      "Result: \n",
      "mean precision: 0.8000000000000002\n",
      "mean recall : 0.9139999999999999\n",
      "mean f1 : 0.852\n",
      "mean support : 48.5\n",
      "precision std : 0.04136557881996952\n",
      "recall std : 0.02951459149490486\n",
      "f1-score std : 0.02658320271650251\n",
      "support std : 2.4608038433722332\n"
     ]
    }
   ],
   "source": [
    "mean_std_evaluation_report(eval_one)"
   ]
  },
  {
   "cell_type": "markdown",
   "metadata": {},
   "source": [
    "reference for getting std\n",
    "https://stackoverflow.com/questions/15389768/standard-deviation-of-a-list"
   ]
  }
 ],
 "metadata": {
  "kernelspec": {
   "display_name": "Python 3",
   "language": "python",
   "name": "python3"
  },
  "language_info": {
   "codemirror_mode": {
    "name": "ipython",
    "version": 3
   },
   "file_extension": ".py",
   "mimetype": "text/x-python",
   "name": "python",
   "nbconvert_exporter": "python",
   "pygments_lexer": "ipython3",
   "version": "3.7.4"
  }
 },
 "nbformat": 4,
 "nbformat_minor": 2
}
